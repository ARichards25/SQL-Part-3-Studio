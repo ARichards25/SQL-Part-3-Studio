{
    "metadata": {
        "kernelspec": {
            "name": "SQL",
            "display_name": "SQL",
            "language": "sql"
        },
        "language_info": {
            "name": "sql",
            "version": ""
        },
        "extensions": {
            "azuredatastudio": {
                "version": 1,
                "views": []
            }
        }
    },
    "nbformat_minor": 2,
    "nbformat": 4,
    "cells": [
        {
            "cell_type": "markdown",
            "source": [
                "# SQL Part 3 Studio\n",
                "\n",
                "### Let's practice your SQL quering skills!  For each question, work along in the notebook adding your query and answering the questions. \n",
                "\n",
                "### **DataSet**\n",
                "\n",
                "### <span style=\"font-size: 14px; font-family: -apple-system, BlinkMacSystemFont, sans-serif;\">We will be using the Goodbooks-10k dataset from the exercises in the prep work.&nbsp; Feel free reference your previous notebooks.</span>\n",
                "\n",
                "- The dataset can be found here: [goodbooks-10k](https://www.kaggle.com/zygmunt/goodbooks-10k)\n",
                "- You can access the **BooksDB** in the Launchcode server.\n",
                "\n",
                "### **Business Issue**\n",
                "\n",
                "You are an employee at a small independet bookstore and you have been tasked to increase sales.  You decide to use the BooksDB to find books and themes to highlight in fun promotions throughout each month / season.  We will be starting with March and then you will have a chance to explore another month of your choosing.  We want to come up with a list of events/ promotions to run each month.  If you are looking for ideas to include in your promotions:\n",
                "\n",
                "- [https://www.calendarr.com/united-states/calendar-2022/](https://www.calendarr.com/united-states/calendar-2022/)\n",
                "- [https://www.holidayinsights.com/moreholidays/](https://www.holidayinsights.com/moreholidays/)\n",
                "    - Click on a month and it will take you to a more detailed page"
            ],
            "metadata": {
                "azdata_cell_guid": "b9034d8a-b631-48bf-a895-1012a6ffa784"
            },
            "attachments": {}
        },
        {
            "cell_type": "markdown",
            "source": [
                "## Part 1:  March - Women's History Month, Dr Seuss Day(3/2), National Pie Day3/14, St Patrick's Day (3/17), Season - Spring"
            ],
            "metadata": {
                "azdata_cell_guid": "6e55eb1c-4a14-4076-90d2-95ed17a6309f"
            },
            "attachments": {}
        },
        {
            "cell_type": "markdown",
            "source": [
                "### **Event 1:** Women's History Month\n",
                "\n",
                "Goal: Highlight Popular Womans Authors based on ratings from the Good Reads DB.\n",
                "\n",
                "### **Write a query that returns tag\\_id, the number of times each tag\\_id is used and the tag\\_name.**  \n",
                "\n",
                "### Use the GROUP BY and HAVING clause to narrow your focus.\n",
                "\n",
                "Try multiple keywords, ie woman vs female (female ended up giving better results)"
            ],
            "metadata": {
                "azdata_cell_guid": "d220c097-e9cf-4edd-9abe-312d071217b7"
            },
            "attachments": {}
        },
        {
            "cell_type": "code",
            "source": [
                "-- Solution\n",
                "SELECT bt.tag_id AS 'TAG ID', tg.tag_name AS 'TAG NAME', SUM(bt.count) AS count\n",
                "FROM BooksDB.dbo.book_tags AS bt \n",
                "INNER JOIN BooksDB.dbo.tags AS tg\n",
                "ON bt.tag_id=tg.tag_id\n",
                "GROUP BY bt.tag_id, tg.tag_name\n",
                "HAVING tag_name LIKE '%female%'\n",
                "ORDER BY count DESC;"
            ],
            "metadata": {
                "azdata_cell_guid": "e31b9d26-0386-44c7-828e-85f4f06f3ee6",
                "language": "sql",
                "tags": []
            },
            "outputs": [
                {
                    "output_type": "display_data",
                    "data": {
                        "text/html": "(35 rows affected)"
                    },
                    "metadata": {}
                },
                {
                    "output_type": "display_data",
                    "data": {
                        "text/html": "Total execution time: 00:00:00.892"
                    },
                    "metadata": {}
                },
                {
                    "output_type": "execute_result",
                    "metadata": {},
                    "execution_count": 35,
                    "data": {
                        "application/vnd.dataresource+json": {
                            "schema": {
                                "fields": [
                                    {
                                        "name": "TAG ID"
                                    },
                                    {
                                        "name": "TAG NAME"
                                    },
                                    {
                                        "name": "count"
                                    }
                                ]
                            },
                            "data": [
                                {
                                    "0": "11643",
                                    "1": "female-author",
                                    "2": "17999"
                                },
                                {
                                    "0": "11644",
                                    "1": "female-authors",
                                    "2": "13690"
                                },
                                {
                                    "0": "11658",
                                    "1": "female-protagonist",
                                    "2": "2554"
                                },
                                {
                                    "0": "11646",
                                    "1": "female-detective",
                                    "2": "302"
                                },
                                {
                                    "0": "11656",
                                    "1": "female-pov",
                                    "2": "155"
                                },
                                {
                                    "0": "11662",
                                    "1": "female-writers",
                                    "2": "147"
                                },
                                {
                                    "0": "11642",
                                    "1": "female",
                                    "2": "133"
                                },
                                {
                                    "0": "11652",
                                    "1": "female-lead",
                                    "2": "61"
                                },
                                {
                                    "0": "28834",
                                    "1": "strong-female-lead",
                                    "2": "61"
                                },
                                {
                                    "0": "11647",
                                    "1": "female-detectives",
                                    "2": "59"
                                },
                                {
                                    "0": "3514",
                                    "1": "author-female",
                                    "2": "47"
                                },
                                {
                                    "0": "28833",
                                    "1": "strong-female-characters",
                                    "2": "30"
                                },
                                {
                                    "0": "28830",
                                    "1": "strong-female",
                                    "2": "21"
                                },
                                {
                                    "0": "11650",
                                    "1": "female-friendship",
                                    "2": "14"
                                },
                                {
                                    "0": "11655",
                                    "1": "female-pi",
                                    "2": "10"
                                },
                                {
                                    "0": "11659",
                                    "1": "female-serial-killer",
                                    "2": "8"
                                },
                                {
                                    "0": "28831",
                                    "1": "strong-female-character",
                                    "2": "7"
                                },
                                {
                                    "0": "1741",
                                    "1": "afghan-female-entrepreneur-under-ta",
                                    "2": "5"
                                },
                                {
                                    "0": "28835",
                                    "1": "strong-female-protagonist",
                                    "2": "5"
                                },
                                {
                                    "0": "11648",
                                    "1": "female-doctor",
                                    "2": "3"
                                },
                                {
                                    "0": "11653",
                                    "1": "female-main-character",
                                    "2": "3"
                                },
                                {
                                    "0": "11660",
                                    "1": "female-spy",
                                    "2": "3"
                                },
                                {
                                    "0": "11645",
                                    "1": "female-biographies",
                                    "2": "2"
                                },
                                {
                                    "0": "11649",
                                    "1": "female-fiction",
                                    "2": "2"
                                },
                                {
                                    "0": "11657",
                                    "1": "female-povs",
                                    "2": "2"
                                },
                                {
                                    "0": "11661",
                                    "1": "female-writer",
                                    "2": "2"
                                },
                                {
                                    "0": "4309",
                                    "1": "best-adult-female-friendship-books",
                                    "2": "1"
                                },
                                {
                                    "0": "11651",
                                    "1": "female-genre-authors",
                                    "2": "1"
                                },
                                {
                                    "0": "11654",
                                    "1": "female-persuasion",
                                    "2": "1"
                                },
                                {
                                    "0": "15331",
                                    "1": "important-female-authors",
                                    "2": "1"
                                },
                                {
                                    "0": "17079",
                                    "1": "kick-ass-female",
                                    "2": "1"
                                },
                                {
                                    "0": "24455",
                                    "1": "protagonist-female",
                                    "2": "1"
                                },
                                {
                                    "0": "28832",
                                    "1": "strong-female-character-s",
                                    "2": "1"
                                },
                                {
                                    "0": "28836",
                                    "1": "strong-female-supporting-characters",
                                    "2": "1"
                                },
                                {
                                    "0": "29324",
                                    "1": "tbr-ax-female",
                                    "2": "1"
                                }
                            ]
                        },
                        "text/html": [
                            "<table>",
                            "<tr><th>TAG ID</th><th>TAG NAME</th><th>count</th></tr>",
                            "<tr><td>11643</td><td>female-author</td><td>17999</td></tr>",
                            "<tr><td>11644</td><td>female-authors</td><td>13690</td></tr>",
                            "<tr><td>11658</td><td>female-protagonist</td><td>2554</td></tr>",
                            "<tr><td>11646</td><td>female-detective</td><td>302</td></tr>",
                            "<tr><td>11656</td><td>female-pov</td><td>155</td></tr>",
                            "<tr><td>11662</td><td>female-writers</td><td>147</td></tr>",
                            "<tr><td>11642</td><td>female</td><td>133</td></tr>",
                            "<tr><td>11652</td><td>female-lead</td><td>61</td></tr>",
                            "<tr><td>28834</td><td>strong-female-lead</td><td>61</td></tr>",
                            "<tr><td>11647</td><td>female-detectives</td><td>59</td></tr>",
                            "<tr><td>3514</td><td>author-female</td><td>47</td></tr>",
                            "<tr><td>28833</td><td>strong-female-characters</td><td>30</td></tr>",
                            "<tr><td>28830</td><td>strong-female</td><td>21</td></tr>",
                            "<tr><td>11650</td><td>female-friendship</td><td>14</td></tr>",
                            "<tr><td>11655</td><td>female-pi</td><td>10</td></tr>",
                            "<tr><td>11659</td><td>female-serial-killer</td><td>8</td></tr>",
                            "<tr><td>28831</td><td>strong-female-character</td><td>7</td></tr>",
                            "<tr><td>1741</td><td>afghan-female-entrepreneur-under-ta</td><td>5</td></tr>",
                            "<tr><td>28835</td><td>strong-female-protagonist</td><td>5</td></tr>",
                            "<tr><td>11648</td><td>female-doctor</td><td>3</td></tr>",
                            "<tr><td>11653</td><td>female-main-character</td><td>3</td></tr>",
                            "<tr><td>11660</td><td>female-spy</td><td>3</td></tr>",
                            "<tr><td>11645</td><td>female-biographies</td><td>2</td></tr>",
                            "<tr><td>11649</td><td>female-fiction</td><td>2</td></tr>",
                            "<tr><td>11657</td><td>female-povs</td><td>2</td></tr>",
                            "<tr><td>11661</td><td>female-writer</td><td>2</td></tr>",
                            "<tr><td>4309</td><td>best-adult-female-friendship-books</td><td>1</td></tr>",
                            "<tr><td>11651</td><td>female-genre-authors</td><td>1</td></tr>",
                            "<tr><td>11654</td><td>female-persuasion</td><td>1</td></tr>",
                            "<tr><td>15331</td><td>important-female-authors</td><td>1</td></tr>",
                            "<tr><td>17079</td><td>kick-ass-female</td><td>1</td></tr>",
                            "<tr><td>24455</td><td>protagonist-female</td><td>1</td></tr>",
                            "<tr><td>28832</td><td>strong-female-character-s</td><td>1</td></tr>",
                            "<tr><td>28836</td><td>strong-female-supporting-characters</td><td>1</td></tr>",
                            "<tr><td>29324</td><td>tbr-ax-female</td><td>1</td></tr>",
                            "</table>"
                        ]
                    }
                }
            ],
            "execution_count": 35
        },
        {
            "cell_type": "markdown",
            "source": [
                "### **Which keyword(s) and tag(s) would you like to explore more?**\n",
                "\n",
                "Female and female-detective (tag)"
            ],
            "metadata": {
                "azdata_cell_guid": "e9acd8b5-a62b-4ac0-bd07-19915b379ba6"
            },
            "attachments": {}
        },
        {
            "cell_type": "markdown",
            "source": [
                "### **Write a query to return authors, titles, ratings and** **selected tag(s)\\_id.**"
            ],
            "metadata": {
                "azdata_cell_guid": "59b84464-c0bc-4dac-9e02-0c803765b063"
            },
            "attachments": {}
        },
        {
            "cell_type": "code",
            "source": [
                "-- Solution\n",
                "SELECT bk.title, bk.authors, bk.average_rating, bt.tag_id\n",
                "FROM BooksDB.dbo.books AS bk \n",
                "INNER JOIN BooksDB.dbo.book_tags AS bt \n",
                "ON bk.book_id=bt.goodreads_book_id\n",
                "WHERE tag_id=11647;\n",
                ""
            ],
            "metadata": {
                "azdata_cell_guid": "51ffeaaf-6dde-4906-95f3-eb8757babf27",
                "tags": [],
                "language": "sql"
            },
            "outputs": [
                {
                    "output_type": "display_data",
                    "data": {
                        "text/html": "(9 rows affected)"
                    },
                    "metadata": {}
                },
                {
                    "output_type": "display_data",
                    "data": {
                        "text/html": "Total execution time: 00:00:00.155"
                    },
                    "metadata": {}
                },
                {
                    "output_type": "execute_result",
                    "metadata": {},
                    "execution_count": 38,
                    "data": {
                        "application/vnd.dataresource+json": {
                            "schema": {
                                "fields": [
                                    {
                                        "name": "title"
                                    },
                                    {
                                        "name": "authors"
                                    },
                                    {
                                        "name": "average_rating"
                                    },
                                    {
                                        "name": "tag_id"
                                    }
                                ]
                            },
                            "data": [
                                {
                                    "0": "The Heist (Fox and O'Hare, #1)",
                                    "1": "Janet Evanovich, Lee Goldberg",
                                    "2": "3.78",
                                    "3": "11647"
                                },
                                {
                                    "0": "10th Anniversary (Women's Murder Club, #10)",
                                    "1": "James Patterson, Maxine Paetro",
                                    "2": "4.05",
                                    "3": "11647"
                                },
                                {
                                    "0": "N is for Noose (Kinsey Millhone, #14)",
                                    "1": "Sue Grafton",
                                    "2": "3.97",
                                    "3": "11647"
                                },
                                {
                                    "0": "X (Kinsey Millhone, #24)",
                                    "1": "Sue Grafton",
                                    "2": "3.88",
                                    "3": "11647"
                                },
                                {
                                    "0": "The Chase (Fox and O'Hare, #2)",
                                    "1": "Janet Evanovich, Lee Goldberg",
                                    "2": "3.93",
                                    "3": "11647"
                                },
                                {
                                    "0": "Q is for Quarry (Kinsey Millhone, #17)",
                                    "1": "Sue Grafton",
                                    "2": "3.91",
                                    "3": "11647"
                                },
                                {
                                    "0": "The Sleeping Doll (Kathryn Dance, #1)",
                                    "1": "Jeffery Deaver",
                                    "2": "3.92",
                                    "3": "11647"
                                },
                                {
                                    "0": "Body Movers (Body Movers, #1)",
                                    "1": "Stephanie Bond",
                                    "2": "3.84",
                                    "3": "11647"
                                },
                                {
                                    "0": "Indemnity Only (V.I. Warshawski, #1)",
                                    "1": "Sara Paretsky",
                                    "2": "3.89",
                                    "3": "11647"
                                }
                            ]
                        },
                        "text/html": [
                            "<table>",
                            "<tr><th>title</th><th>authors</th><th>average_rating</th><th>tag_id</th></tr>",
                            "<tr><td>The Heist (Fox and O'Hare, #1)</td><td>Janet Evanovich, Lee Goldberg</td><td>3.78</td><td>11647</td></tr>",
                            "<tr><td>10th Anniversary (Women's Murder Club, #10)</td><td>James Patterson, Maxine Paetro</td><td>4.05</td><td>11647</td></tr>",
                            "<tr><td>N is for Noose (Kinsey Millhone, #14)</td><td>Sue Grafton</td><td>3.97</td><td>11647</td></tr>",
                            "<tr><td>X (Kinsey Millhone, #24)</td><td>Sue Grafton</td><td>3.88</td><td>11647</td></tr>",
                            "<tr><td>The Chase (Fox and O'Hare, #2)</td><td>Janet Evanovich, Lee Goldberg</td><td>3.93</td><td>11647</td></tr>",
                            "<tr><td>Q is for Quarry (Kinsey Millhone, #17)</td><td>Sue Grafton</td><td>3.91</td><td>11647</td></tr>",
                            "<tr><td>The Sleeping Doll (Kathryn Dance, #1)</td><td>Jeffery Deaver</td><td>3.92</td><td>11647</td></tr>",
                            "<tr><td>Body Movers (Body Movers, #1)</td><td>Stephanie Bond</td><td>3.84</td><td>11647</td></tr>",
                            "<tr><td>Indemnity Only (V.I. Warshawski, #1)</td><td>Sara Paretsky</td><td>3.89</td><td>11647</td></tr>",
                            "</table>"
                        ]
                    }
                }
            ],
            "execution_count": 38
        },
        {
            "cell_type": "markdown",
            "source": [
                "### **Record your thoughts about why you wrote the query the way you did.**"
            ],
            "metadata": {
                "azdata_cell_guid": "1e19a72c-1bca-446b-a0c7-a8efbc35dcf1"
            },
            "attachments": {}
        },
        {
            "cell_type": "markdown",
            "source": [
                "# Part 2: Choose Another Month\n",
                "\n",
                "Choose another month and plan at least 2 events / promotions and answer the following questions.\n",
                "\n",
                "Which month did you choose?  \n",
                "\n",
                "What 2 events / promotions are you highlighting?\n",
                "\n",
                "> 1. March- St. Patrick's Day\n",
                "> 2. October- Halloween"
            ],
            "metadata": {
                "azdata_cell_guid": "3eaf376d-9de3-4553-a9d0-9caf74ee3d6a"
            },
            "attachments": {}
        },
        {
            "cell_type": "markdown",
            "source": [
                "# Part 3: Summarize your Work\n",
                "\n",
                "For each event write at least one query that joins any two tables in the BooksDB to support your choice and record you thoughts as to why you used the paticlular query. At least one of your queries needs to include a HAVING clause."
            ],
            "metadata": {
                "azdata_cell_guid": "1ba1363a-4f02-4962-a95a-93b80c5926b1"
            },
            "attachments": {}
        },
        {
            "cell_type": "code",
            "source": [
                "-- Event 1 Query\n",
                "\n",
                "\n",
                "SELECT bk.title, bk.authors, bk.average_rating, bt.tag_id\n",
                "FROM BooksDB.dbo.books AS bk \n",
                "INNER JOIN BooksDB.dbo.book_tags AS bt \n",
                "ON bk.book_id=bt.goodreads_book_id\n",
                "WHERE tag_id=15817;"
            ],
            "metadata": {
                "azdata_cell_guid": "f50d32ce-4cb2-4af2-acb1-607777a76cf8",
                "language": "sql"
            },
            "outputs": [
                {
                    "output_type": "display_data",
                    "data": {
                        "text/html": "(45 rows affected)"
                    },
                    "metadata": {}
                },
                {
                    "output_type": "display_data",
                    "data": {
                        "text/html": "Total execution time: 00:00:00.178"
                    },
                    "metadata": {}
                },
                {
                    "output_type": "execute_result",
                    "metadata": {},
                    "execution_count": 43,
                    "data": {
                        "application/vnd.dataresource+json": {
                            "schema": {
                                "fields": [
                                    {
                                        "name": "title"
                                    },
                                    {
                                        "name": "authors"
                                    },
                                    {
                                        "name": "average_rating"
                                    },
                                    {
                                        "name": "tag_id"
                                    }
                                ]
                            },
                            "data": [
                                {
                                    "0": "The Picture of Dorian Gray",
                                    "1": "Oscar Wilde, Jeffrey Eugenides",
                                    "2": "4.06",
                                    "3": "15817"
                                },
                                {
                                    "0": "Angela's Ashes (Frank McCourt, #1)",
                                    "1": "Frank McCourt",
                                    "2": "4.07",
                                    "3": "15817"
                                },
                                {
                                    "0": "The Importance of Being Earnest",
                                    "1": "Oscar Wilde",
                                    "2": "4.17",
                                    "3": "15817"
                                },
                                {
                                    "0": "Gulliver's Travels",
                                    "1": "Jonathan Swift, Robert DeMaria Jr.",
                                    "2": "3.55",
                                    "3": "15817"
                                },
                                {
                                    "0": "Waiting for Godot",
                                    "1": "Samuel Beckett",
                                    "2": "3.81",
                                    "3": "15817"
                                },
                                {
                                    "0": "A Portrait of the Artist as a Young Man",
                                    "1": "James Joyce, Seamus Deane",
                                    "2": "3.6",
                                    "3": "15817"
                                },
                                {
                                    "0": "Dubliners",
                                    "1": "James Joyce, Jeri Johnson",
                                    "2": "3.85",
                                    "3": "15817"
                                },
                                {
                                    "0": "Ulysses",
                                    "1": "James Joyce",
                                    "2": "3.74",
                                    "3": "15817"
                                },
                                {
                                    "0": "Pygmalion",
                                    "1": "George Bernard Shaw",
                                    "2": "3.9",
                                    "3": "15817"
                                },
                                {
                                    "0": "Brooklyn",
                                    "1": "Colm Tóibín",
                                    "2": "3.63",
                                    "3": "15817"
                                },
                                {
                                    "0": "Tara Road",
                                    "1": "Maeve Binchy",
                                    "2": "3.88",
                                    "3": "15817"
                                },
                                {
                                    "0": "The Importance of Being Earnest and Other Plays",
                                    "1": "Oscar Wilde, Richard Allen Cave",
                                    "2": "4.26",
                                    "3": "15817"
                                },
                                {
                                    "0": "Circle of Friends",
                                    "1": "Maeve Binchy",
                                    "2": "4",
                                    "3": "15817"
                                },
                                {
                                    "0": "Evening Class",
                                    "1": "Maeve Binchy",
                                    "2": "3.98",
                                    "3": "15817"
                                },
                                {
                                    "0": "A Modest Proposal",
                                    "1": "Jonathan Swift",
                                    "2": "4.05",
                                    "3": "15817"
                                },
                                {
                                    "0": "This Charming Man",
                                    "1": "Marian Keyes",
                                    "2": "3.75",
                                    "3": "15817"
                                },
                                {
                                    "0": "The Collected Poems of W.B. Yeats",
                                    "1": "W.B. Yeats, Richard J. Finneran",
                                    "2": "4.25",
                                    "3": "15817"
                                },
                                {
                                    "0": "An Ideal Husband",
                                    "1": "Oscar Wilde",
                                    "2": "4.03",
                                    "3": "15817"
                                },
                                {
                                    "0": "The Wonder",
                                    "1": "Emma Donoghue",
                                    "2": "3.65",
                                    "3": "15817"
                                },
                                {
                                    "0": "The Canterville Ghost",
                                    "1": "Oscar Wilde, Inga Moore",
                                    "2": "3.89",
                                    "3": "15817"
                                },
                                {
                                    "0": "TransAtlantic",
                                    "1": "Colum McCann",
                                    "2": "3.81",
                                    "3": "15817"
                                },
                                {
                                    "0": "The Sea",
                                    "1": "John Banville",
                                    "2": "3.49",
                                    "3": "15817"
                                },
                                {
                                    "0": "Carmilla",
                                    "1": "J. Sheridan Le Fanu",
                                    "2": "3.83",
                                    "3": "15817"
                                },
                                {
                                    "0": "Complete Works of Oscar Wilde",
                                    "1": "Oscar Wilde, Merlin Holland",
                                    "2": "4.45",
                                    "3": "15817"
                                },
                                {
                                    "0": "Quentins",
                                    "1": "Maeve Binchy",
                                    "2": "3.88",
                                    "3": "15817"
                                },
                                {
                                    "0": "Skippy Dies",
                                    "1": "Paul Murray",
                                    "2": "3.72",
                                    "3": "15817"
                                },
                                {
                                    "0": "Paddy Clarke Ha Ha Ha",
                                    "1": "Roddy Doyle",
                                    "2": "3.75",
                                    "3": "15817"
                                },
                                {
                                    "0": "The Copper Beech",
                                    "1": "Maeve Binchy",
                                    "2": "3.89",
                                    "3": "15817"
                                },
                                {
                                    "0": "Trinity",
                                    "1": "Leon Uris",
                                    "2": "4.23",
                                    "3": "15817"
                                },
                                {
                                    "0": "Pygmalion and Three Other Plays",
                                    "1": "George Bernard Shaw, John A. Bertolini",
                                    "2": "4.01",
                                    "3": "15817"
                                },
                                {
                                    "0": "The Gathering",
                                    "1": "Anne Enright",
                                    "2": "3.04",
                                    "3": "15817"
                                },
                                {
                                    "0": "The Happy Prince",
                                    "1": "Oscar Wilde",
                                    "2": "4.22",
                                    "3": "15817"
                                },
                                {
                                    "0": "Nora Webster",
                                    "1": "Colm Tóibín",
                                    "2": "3.58",
                                    "3": "15817"
                                },
                                {
                                    "0": "Lady Windermere's Fan",
                                    "1": "Oscar Wilde",
                                    "2": "3.9",
                                    "3": "15817"
                                },
                                {
                                    "0": "Light a Penny Candle",
                                    "1": "Maeve Binchy",
                                    "2": "3.88",
                                    "3": "15817"
                                },
                                {
                                    "0": "The Third Policeman",
                                    "1": "Flann O'Brien",
                                    "2": "4.02",
                                    "3": "15817"
                                },
                                {
                                    "0": "Nights of Rain and Stars",
                                    "1": "Maeve Binchy",
                                    "2": "3.67",
                                    "3": "15817"
                                },
                                {
                                    "0": "The Dead",
                                    "1": "James Joyce",
                                    "2": "4.09",
                                    "3": "15817"
                                },
                                {
                                    "0": "The Sea, the Sea",
                                    "1": "Iris Murdoch, Mary Kinzie",
                                    "2": "3.9",
                                    "3": "15817"
                                },
                                {
                                    "0": "The Testament of Mary",
                                    "1": "Colm Tóibín",
                                    "2": "3.61",
                                    "3": "15817"
                                },
                                {
                                    "0": "The Commitments",
                                    "1": "Roddy Doyle",
                                    "2": "3.95",
                                    "3": "15817"
                                },
                                {
                                    "0": "A Modest Proposal and Other Satirical Works",
                                    "1": "Jonathan Swift",
                                    "2": "4.04",
                                    "3": "15817"
                                },
                                {
                                    "0": "Under the Net",
                                    "1": "Iris Murdoch",
                                    "2": "3.76",
                                    "3": "15817"
                                },
                                {
                                    "0": "The Secret Scripture",
                                    "1": "Sebastian Barry",
                                    "2": "3.75",
                                    "3": "15817"
                                },
                                {
                                    "0": "Whitethorn Woods",
                                    "1": "Maeve Binchy",
                                    "2": "3.59",
                                    "3": "15817"
                                }
                            ]
                        },
                        "text/html": [
                            "<table>",
                            "<tr><th>title</th><th>authors</th><th>average_rating</th><th>tag_id</th></tr>",
                            "<tr><td>The Picture of Dorian Gray</td><td>Oscar Wilde, Jeffrey Eugenides</td><td>4.06</td><td>15817</td></tr>",
                            "<tr><td>Angela's Ashes (Frank McCourt, #1)</td><td>Frank McCourt</td><td>4.07</td><td>15817</td></tr>",
                            "<tr><td>The Importance of Being Earnest</td><td>Oscar Wilde</td><td>4.17</td><td>15817</td></tr>",
                            "<tr><td>Gulliver's Travels</td><td>Jonathan Swift, Robert DeMaria Jr.</td><td>3.55</td><td>15817</td></tr>",
                            "<tr><td>Waiting for Godot</td><td>Samuel Beckett</td><td>3.81</td><td>15817</td></tr>",
                            "<tr><td>A Portrait of the Artist as a Young Man</td><td>James Joyce, Seamus Deane</td><td>3.6</td><td>15817</td></tr>",
                            "<tr><td>Dubliners</td><td>James Joyce, Jeri Johnson</td><td>3.85</td><td>15817</td></tr>",
                            "<tr><td>Ulysses</td><td>James Joyce</td><td>3.74</td><td>15817</td></tr>",
                            "<tr><td>Pygmalion</td><td>George Bernard Shaw</td><td>3.9</td><td>15817</td></tr>",
                            "<tr><td>Brooklyn</td><td>Colm Tóibín</td><td>3.63</td><td>15817</td></tr>",
                            "<tr><td>Tara Road</td><td>Maeve Binchy</td><td>3.88</td><td>15817</td></tr>",
                            "<tr><td>The Importance of Being Earnest and Other Plays</td><td>Oscar Wilde, Richard Allen Cave</td><td>4.26</td><td>15817</td></tr>",
                            "<tr><td>Circle of Friends</td><td>Maeve Binchy</td><td>4</td><td>15817</td></tr>",
                            "<tr><td>Evening Class</td><td>Maeve Binchy</td><td>3.98</td><td>15817</td></tr>",
                            "<tr><td>A Modest Proposal</td><td>Jonathan Swift</td><td>4.05</td><td>15817</td></tr>",
                            "<tr><td>This Charming Man</td><td>Marian Keyes</td><td>3.75</td><td>15817</td></tr>",
                            "<tr><td>The Collected Poems of W.B. Yeats</td><td>W.B. Yeats, Richard J. Finneran</td><td>4.25</td><td>15817</td></tr>",
                            "<tr><td>An Ideal Husband</td><td>Oscar Wilde</td><td>4.03</td><td>15817</td></tr>",
                            "<tr><td>The Wonder</td><td>Emma Donoghue</td><td>3.65</td><td>15817</td></tr>",
                            "<tr><td>The Canterville Ghost</td><td>Oscar Wilde, Inga Moore</td><td>3.89</td><td>15817</td></tr>",
                            "<tr><td>TransAtlantic</td><td>Colum McCann</td><td>3.81</td><td>15817</td></tr>",
                            "<tr><td>The Sea</td><td>John Banville</td><td>3.49</td><td>15817</td></tr>",
                            "<tr><td>Carmilla</td><td>J. Sheridan Le Fanu</td><td>3.83</td><td>15817</td></tr>",
                            "<tr><td>Complete Works of Oscar Wilde</td><td>Oscar Wilde, Merlin Holland</td><td>4.45</td><td>15817</td></tr>",
                            "<tr><td>Quentins</td><td>Maeve Binchy</td><td>3.88</td><td>15817</td></tr>",
                            "<tr><td>Skippy Dies</td><td>Paul Murray</td><td>3.72</td><td>15817</td></tr>",
                            "<tr><td>Paddy Clarke Ha Ha Ha</td><td>Roddy Doyle</td><td>3.75</td><td>15817</td></tr>",
                            "<tr><td>The Copper Beech</td><td>Maeve Binchy</td><td>3.89</td><td>15817</td></tr>",
                            "<tr><td>Trinity</td><td>Leon Uris</td><td>4.23</td><td>15817</td></tr>",
                            "<tr><td>Pygmalion and Three Other Plays</td><td>George Bernard Shaw, John A. Bertolini</td><td>4.01</td><td>15817</td></tr>",
                            "<tr><td>The Gathering</td><td>Anne Enright</td><td>3.04</td><td>15817</td></tr>",
                            "<tr><td>The Happy Prince</td><td>Oscar Wilde</td><td>4.22</td><td>15817</td></tr>",
                            "<tr><td>Nora Webster</td><td>Colm Tóibín</td><td>3.58</td><td>15817</td></tr>",
                            "<tr><td>Lady Windermere's Fan</td><td>Oscar Wilde</td><td>3.9</td><td>15817</td></tr>",
                            "<tr><td>Light a Penny Candle</td><td>Maeve Binchy</td><td>3.88</td><td>15817</td></tr>",
                            "<tr><td>The Third Policeman</td><td>Flann O'Brien</td><td>4.02</td><td>15817</td></tr>",
                            "<tr><td>Nights of Rain and Stars</td><td>Maeve Binchy</td><td>3.67</td><td>15817</td></tr>",
                            "<tr><td>The Dead</td><td>James Joyce</td><td>4.09</td><td>15817</td></tr>",
                            "<tr><td>The Sea, the Sea</td><td>Iris Murdoch, Mary Kinzie</td><td>3.9</td><td>15817</td></tr>",
                            "<tr><td>The Testament of Mary</td><td>Colm Tóibín</td><td>3.61</td><td>15817</td></tr>",
                            "<tr><td>The Commitments</td><td>Roddy Doyle</td><td>3.95</td><td>15817</td></tr>",
                            "<tr><td>A Modest Proposal and Other Satirical Works</td><td>Jonathan Swift</td><td>4.04</td><td>15817</td></tr>",
                            "<tr><td>Under the Net</td><td>Iris Murdoch</td><td>3.76</td><td>15817</td></tr>",
                            "<tr><td>The Secret Scripture</td><td>Sebastian Barry</td><td>3.75</td><td>15817</td></tr>",
                            "<tr><td>Whitethorn Woods</td><td>Maeve Binchy</td><td>3.59</td><td>15817</td></tr>",
                            "</table>"
                        ]
                    }
                }
            ],
            "execution_count": 43
        },
        {
            "cell_type": "code",
            "source": [
                ""
            ],
            "metadata": {
                "azdata_cell_guid": "5606f7f2-c46b-42d3-ac64-7ae21c3394f8",
                "language": "sql"
            },
            "outputs": [],
            "execution_count": null
        },
        {
            "cell_type": "markdown",
            "source": [
                "### **Summary of event 1:**\n",
                "\n",
                "Double Click to edit."
            ],
            "metadata": {
                "azdata_cell_guid": "3bc72d4c-077b-42d3-9528-9aff8e7b6cf3"
            },
            "attachments": {}
        },
        {
            "cell_type": "code",
            "source": [
                "-- Event 2 \n",
                "SELECT tag_name, tag_id\n",
                "FROM BooksDB.dbo.tags\n",
                "WHERE tag_name LIKE '%horror%';\n",
                ""
            ],
            "metadata": {
                "azdata_cell_guid": "dca0a98f-065f-4b0e-9d93-fcb01cad668c",
                "language": "sql"
            },
            "outputs": [
                {
                    "output_type": "display_data",
                    "data": {
                        "text/html": "(104 rows affected)"
                    },
                    "metadata": {}
                },
                {
                    "output_type": "display_data",
                    "data": {
                        "text/html": "Total execution time: 00:00:00.111"
                    },
                    "metadata": {}
                },
                {
                    "output_type": "execute_result",
                    "metadata": {},
                    "execution_count": 45,
                    "data": {
                        "application/vnd.dataresource+json": {
                            "schema": {
                                "fields": [
                                    {
                                        "name": "tag_name"
                                    },
                                    {
                                        "name": "tag_id"
                                    }
                                ]
                            },
                            "data": [
                                {
                                    "0": "2017_august_horror",
                                    "1": "907"
                                },
                                {
                                    "0": "2017_horror",
                                    "1": "908"
                                },
                                {
                                    "0": "2017_horror_tbr_challenge",
                                    "1": "909"
                                },
                                {
                                    "0": "best-horror",
                                    "1": "4343"
                                },
                                {
                                    "0": "c-thriller-horror",
                                    "1": "6074"
                                },
                                {
                                    "0": "childrens-horror",
                                    "1": "6975"
                                },
                                {
                                    "0": "christian-horror",
                                    "1": "7133"
                                },
                                {
                                    "0": "classic-horror",
                                    "1": "7420"
                                },
                                {
                                    "0": "comics-horror",
                                    "1": "7812"
                                },
                                {
                                    "0": "cosmic-horror",
                                    "1": "8326"
                                },
                                {
                                    "0": "crime-thriller-horror",
                                    "1": "8546"
                                },
                                {
                                    "0": "dark-fantasy-horror",
                                    "1": "8939"
                                },
                                {
                                    "0": "extreme-horror",
                                    "1": "11081"
                                },
                                {
                                    "0": "fantasy-horror",
                                    "1": "11350"
                                },
                                {
                                    "0": "favourite-horror-and-thriller",
                                    "1": "11586"
                                },
                                {
                                    "0": "fiction-horror",
                                    "1": "11784"
                                },
                                {
                                    "0": "g-horror",
                                    "1": "12736"
                                },
                                {
                                    "0": "general-horror",
                                    "1": "12951"
                                },
                                {
                                    "0": "genre-horror",
                                    "1": "13012"
                                },
                                {
                                    "0": "gothic-and-horror",
                                    "1": "13447"
                                },
                                {
                                    "0": "gothic-horror",
                                    "1": "13450"
                                },
                                {
                                    "0": "hardcore-horror",
                                    "1": "13961"
                                },
                                {
                                    "0": "horror",
                                    "1": "14821"
                                },
                                {
                                    "0": "horror-3",
                                    "1": "14822"
                                },
                                {
                                    "0": "horror-aficionados",
                                    "1": "14823"
                                },
                                {
                                    "0": "horror-aficionados-challenge-2013",
                                    "1": "14824"
                                },
                                {
                                    "0": "horror-anthologies",
                                    "1": "14825"
                                },
                                {
                                    "0": "horror-book-club",
                                    "1": "14826"
                                },
                                {
                                    "0": "horror-books",
                                    "1": "14827"
                                },
                                {
                                    "0": "horror-books-and-then-films",
                                    "1": "14828"
                                },
                                {
                                    "0": "horror-challenge",
                                    "1": "14829"
                                },
                                {
                                    "0": "horror-challenge-2013",
                                    "1": "14830"
                                },
                                {
                                    "0": "horror-chills-and-thrills",
                                    "1": "14831"
                                },
                                {
                                    "0": "horror-comics",
                                    "1": "14832"
                                },
                                {
                                    "0": "horror-dark-fantasy",
                                    "1": "14833"
                                },
                                {
                                    "0": "horror-dystopian",
                                    "1": "14834"
                                },
                                {
                                    "0": "horror-fantasy",
                                    "1": "14835"
                                },
                                {
                                    "0": "horror-fiction",
                                    "1": "14836"
                                },
                                {
                                    "0": "horror-genres",
                                    "1": "14837"
                                },
                                {
                                    "0": "horror-gothic",
                                    "1": "14838"
                                },
                                {
                                    "0": "horror-graphic-novels",
                                    "1": "14839"
                                },
                                {
                                    "0": "horror-macabre",
                                    "1": "14840"
                                },
                                {
                                    "0": "horror-mystery",
                                    "1": "14841"
                                },
                                {
                                    "0": "horror-mystery-thriller",
                                    "1": "14842"
                                },
                                {
                                    "0": "horror-novels",
                                    "1": "14843"
                                },
                                {
                                    "0": "horror-paranormal",
                                    "1": "14844"
                                },
                                {
                                    "0": "horror-read",
                                    "1": "14845"
                                },
                                {
                                    "0": "horror-reads",
                                    "1": "14846"
                                },
                                {
                                    "0": "horror-sci-fi",
                                    "1": "14847"
                                },
                                {
                                    "0": "horror-short-stories",
                                    "1": "14848"
                                },
                                {
                                    "0": "horror-spooky",
                                    "1": "14849"
                                },
                                {
                                    "0": "horror-stories",
                                    "1": "14850"
                                },
                                {
                                    "0": "horror-supernatural",
                                    "1": "14851"
                                },
                                {
                                    "0": "horror-suspense",
                                    "1": "14852"
                                },
                                {
                                    "0": "horror-suspense-thriller",
                                    "1": "14853"
                                },
                                {
                                    "0": "horror-tales",
                                    "1": "14854"
                                },
                                {
                                    "0": "horror-tbr",
                                    "1": "14855"
                                },
                                {
                                    "0": "horror-thriller",
                                    "1": "14856"
                                },
                                {
                                    "0": "horror-thriller-crime-mystery",
                                    "1": "14857"
                                },
                                {
                                    "0": "horror-thriller-mystery",
                                    "1": "14858"
                                },
                                {
                                    "0": "horror-thrillers",
                                    "1": "14859"
                                },
                                {
                                    "0": "horror-to-read",
                                    "1": "14860"
                                },
                                {
                                    "0": "horror-und-thriller",
                                    "1": "14861"
                                },
                                {
                                    "0": "horror-vampires",
                                    "1": "14862"
                                },
                                {
                                    "0": "horror-weird-fiction",
                                    "1": "14863"
                                },
                                {
                                    "0": "horror-zombies",
                                    "1": "14864"
                                },
                                {
                                    "0": "horror1970s",
                                    "1": "14865"
                                },
                                {
                                    "0": "horrors",
                                    "1": "14866"
                                },
                                {
                                    "0": "lovecraft-weird-horror",
                                    "1": "18676"
                                },
                                {
                                    "0": "lovecraftian-horror",
                                    "1": "18678"
                                },
                                {
                                    "0": "manga-horror",
                                    "1": "19107"
                                },
                                {
                                    "0": "monsters-horror",
                                    "1": "20406"
                                },
                                {
                                    "0": "mystery-horror",
                                    "1": "20972"
                                },
                                {
                                    "0": "mystery-horror-thriller",
                                    "1": "20973"
                                },
                                {
                                    "0": "mystery-suspense-horror",
                                    "1": "20990"
                                },
                                {
                                    "0": "mystery-suspense-thriller-horror",
                                    "1": "20992"
                                },
                                {
                                    "0": "mystery-thriller-horror",
                                    "1": "20998"
                                },
                                {
                                    "0": "mystery-thriller-suspense-horror",
                                    "1": "21002"
                                },
                                {
                                    "0": "postapocalyptic-horror",
                                    "1": "24072"
                                },
                                {
                                    "0": "pulp-horror-to-read",
                                    "1": "24649"
                                },
                                {
                                    "0": "read-horror",
                                    "1": "25133"
                                },
                                {
                                    "0": "sci-fi-fantasy-horror",
                                    "1": "26787"
                                },
                                {
                                    "0": "sci-fi-horror",
                                    "1": "26793"
                                },
                                {
                                    "0": "scifi-fantasy-horror",
                                    "1": "26898"
                                },
                                {
                                    "0": "space-horror",
                                    "1": "28244"
                                },
                                {
                                    "0": "supernatural-horror",
                                    "1": "29015"
                                },
                                {
                                    "0": "suspense-horror",
                                    "1": "29079"
                                },
                                {
                                    "0": "suspense-thriller-horror",
                                    "1": "29084"
                                },
                                {
                                    "0": "tbr-horror",
                                    "1": "29335"
                                },
                                {
                                    "0": "terror-horror",
                                    "1": "29551"
                                },
                                {
                                    "0": "the-amityville-horror",
                                    "1": "29616"
                                },
                                {
                                    "0": "the-horror",
                                    "1": "29851"
                                },
                                {
                                    "0": "thriller-and-horror",
                                    "1": "30361"
                                },
                                {
                                    "0": "thriller-horror",
                                    "1": "30368"
                                },
                                {
                                    "0": "thriller-mystery-horror",
                                    "1": "30374"
                                },
                                {
                                    "0": "thriller_horror_mystery_sci-fi",
                                    "1": "30384"
                                },
                                {
                                    "0": "thrillers-horror",
                                    "1": "30388"
                                },
                                {
                                    "0": "to-read-horror",
                                    "1": "30696"
                                },
                                {
                                    "0": "to-read-horror-weird-ssc",
                                    "1": "30697"
                                },
                                {
                                    "0": "uk-horror",
                                    "1": "31432"
                                },
                                {
                                    "0": "weird-horror-spec",
                                    "1": "32304"
                                },
                                {
                                    "0": "werewolf-horror",
                                    "1": "32343"
                                },
                                {
                                    "0": "ya-horror",
                                    "1": "33019"
                                },
                                {
                                    "0": "zombie-horror",
                                    "1": "33266"
                                }
                            ]
                        },
                        "text/html": [
                            "<table>",
                            "<tr><th>tag_name</th><th>tag_id</th></tr>",
                            "<tr><td>2017_august_horror</td><td>907</td></tr>",
                            "<tr><td>2017_horror</td><td>908</td></tr>",
                            "<tr><td>2017_horror_tbr_challenge</td><td>909</td></tr>",
                            "<tr><td>best-horror</td><td>4343</td></tr>",
                            "<tr><td>c-thriller-horror</td><td>6074</td></tr>",
                            "<tr><td>childrens-horror</td><td>6975</td></tr>",
                            "<tr><td>christian-horror</td><td>7133</td></tr>",
                            "<tr><td>classic-horror</td><td>7420</td></tr>",
                            "<tr><td>comics-horror</td><td>7812</td></tr>",
                            "<tr><td>cosmic-horror</td><td>8326</td></tr>",
                            "<tr><td>crime-thriller-horror</td><td>8546</td></tr>",
                            "<tr><td>dark-fantasy-horror</td><td>8939</td></tr>",
                            "<tr><td>extreme-horror</td><td>11081</td></tr>",
                            "<tr><td>fantasy-horror</td><td>11350</td></tr>",
                            "<tr><td>favourite-horror-and-thriller</td><td>11586</td></tr>",
                            "<tr><td>fiction-horror</td><td>11784</td></tr>",
                            "<tr><td>g-horror</td><td>12736</td></tr>",
                            "<tr><td>general-horror</td><td>12951</td></tr>",
                            "<tr><td>genre-horror</td><td>13012</td></tr>",
                            "<tr><td>gothic-and-horror</td><td>13447</td></tr>",
                            "<tr><td>gothic-horror</td><td>13450</td></tr>",
                            "<tr><td>hardcore-horror</td><td>13961</td></tr>",
                            "<tr><td>horror</td><td>14821</td></tr>",
                            "<tr><td>horror-3</td><td>14822</td></tr>",
                            "<tr><td>horror-aficionados</td><td>14823</td></tr>",
                            "<tr><td>horror-aficionados-challenge-2013</td><td>14824</td></tr>",
                            "<tr><td>horror-anthologies</td><td>14825</td></tr>",
                            "<tr><td>horror-book-club</td><td>14826</td></tr>",
                            "<tr><td>horror-books</td><td>14827</td></tr>",
                            "<tr><td>horror-books-and-then-films</td><td>14828</td></tr>",
                            "<tr><td>horror-challenge</td><td>14829</td></tr>",
                            "<tr><td>horror-challenge-2013</td><td>14830</td></tr>",
                            "<tr><td>horror-chills-and-thrills</td><td>14831</td></tr>",
                            "<tr><td>horror-comics</td><td>14832</td></tr>",
                            "<tr><td>horror-dark-fantasy</td><td>14833</td></tr>",
                            "<tr><td>horror-dystopian</td><td>14834</td></tr>",
                            "<tr><td>horror-fantasy</td><td>14835</td></tr>",
                            "<tr><td>horror-fiction</td><td>14836</td></tr>",
                            "<tr><td>horror-genres</td><td>14837</td></tr>",
                            "<tr><td>horror-gothic</td><td>14838</td></tr>",
                            "<tr><td>horror-graphic-novels</td><td>14839</td></tr>",
                            "<tr><td>horror-macabre</td><td>14840</td></tr>",
                            "<tr><td>horror-mystery</td><td>14841</td></tr>",
                            "<tr><td>horror-mystery-thriller</td><td>14842</td></tr>",
                            "<tr><td>horror-novels</td><td>14843</td></tr>",
                            "<tr><td>horror-paranormal</td><td>14844</td></tr>",
                            "<tr><td>horror-read</td><td>14845</td></tr>",
                            "<tr><td>horror-reads</td><td>14846</td></tr>",
                            "<tr><td>horror-sci-fi</td><td>14847</td></tr>",
                            "<tr><td>horror-short-stories</td><td>14848</td></tr>",
                            "<tr><td>horror-spooky</td><td>14849</td></tr>",
                            "<tr><td>horror-stories</td><td>14850</td></tr>",
                            "<tr><td>horror-supernatural</td><td>14851</td></tr>",
                            "<tr><td>horror-suspense</td><td>14852</td></tr>",
                            "<tr><td>horror-suspense-thriller</td><td>14853</td></tr>",
                            "<tr><td>horror-tales</td><td>14854</td></tr>",
                            "<tr><td>horror-tbr</td><td>14855</td></tr>",
                            "<tr><td>horror-thriller</td><td>14856</td></tr>",
                            "<tr><td>horror-thriller-crime-mystery</td><td>14857</td></tr>",
                            "<tr><td>horror-thriller-mystery</td><td>14858</td></tr>",
                            "<tr><td>horror-thrillers</td><td>14859</td></tr>",
                            "<tr><td>horror-to-read</td><td>14860</td></tr>",
                            "<tr><td>horror-und-thriller</td><td>14861</td></tr>",
                            "<tr><td>horror-vampires</td><td>14862</td></tr>",
                            "<tr><td>horror-weird-fiction</td><td>14863</td></tr>",
                            "<tr><td>horror-zombies</td><td>14864</td></tr>",
                            "<tr><td>horror1970s</td><td>14865</td></tr>",
                            "<tr><td>horrors</td><td>14866</td></tr>",
                            "<tr><td>lovecraft-weird-horror</td><td>18676</td></tr>",
                            "<tr><td>lovecraftian-horror</td><td>18678</td></tr>",
                            "<tr><td>manga-horror</td><td>19107</td></tr>",
                            "<tr><td>monsters-horror</td><td>20406</td></tr>",
                            "<tr><td>mystery-horror</td><td>20972</td></tr>",
                            "<tr><td>mystery-horror-thriller</td><td>20973</td></tr>",
                            "<tr><td>mystery-suspense-horror</td><td>20990</td></tr>",
                            "<tr><td>mystery-suspense-thriller-horror</td><td>20992</td></tr>",
                            "<tr><td>mystery-thriller-horror</td><td>20998</td></tr>",
                            "<tr><td>mystery-thriller-suspense-horror</td><td>21002</td></tr>",
                            "<tr><td>postapocalyptic-horror</td><td>24072</td></tr>",
                            "<tr><td>pulp-horror-to-read</td><td>24649</td></tr>",
                            "<tr><td>read-horror</td><td>25133</td></tr>",
                            "<tr><td>sci-fi-fantasy-horror</td><td>26787</td></tr>",
                            "<tr><td>sci-fi-horror</td><td>26793</td></tr>",
                            "<tr><td>scifi-fantasy-horror</td><td>26898</td></tr>",
                            "<tr><td>space-horror</td><td>28244</td></tr>",
                            "<tr><td>supernatural-horror</td><td>29015</td></tr>",
                            "<tr><td>suspense-horror</td><td>29079</td></tr>",
                            "<tr><td>suspense-thriller-horror</td><td>29084</td></tr>",
                            "<tr><td>tbr-horror</td><td>29335</td></tr>",
                            "<tr><td>terror-horror</td><td>29551</td></tr>",
                            "<tr><td>the-amityville-horror</td><td>29616</td></tr>",
                            "<tr><td>the-horror</td><td>29851</td></tr>",
                            "<tr><td>thriller-and-horror</td><td>30361</td></tr>",
                            "<tr><td>thriller-horror</td><td>30368</td></tr>",
                            "<tr><td>thriller-mystery-horror</td><td>30374</td></tr>",
                            "<tr><td>thriller_horror_mystery_sci-fi</td><td>30384</td></tr>",
                            "<tr><td>thrillers-horror</td><td>30388</td></tr>",
                            "<tr><td>to-read-horror</td><td>30696</td></tr>",
                            "<tr><td>to-read-horror-weird-ssc</td><td>30697</td></tr>",
                            "<tr><td>uk-horror</td><td>31432</td></tr>",
                            "<tr><td>weird-horror-spec</td><td>32304</td></tr>",
                            "<tr><td>werewolf-horror</td><td>32343</td></tr>",
                            "<tr><td>ya-horror</td><td>33019</td></tr>",
                            "<tr><td>zombie-horror</td><td>33266</td></tr>",
                            "</table>"
                        ]
                    }
                }
            ],
            "execution_count": 45
        },
        {
            "cell_type": "code",
            "source": [
                "SELECT bk.title AS Name, SUM(bt.tag_id)\n",
                "FROM BooksDB.dbo.book_tags AS bt \n",
                "INNER JOIN BooksDB.dbo.books AS bk \n",
                "ON bt.goodreads_book_id=bk.book_id\n",
                "ORDER BY SUM(bt.tag_id) DESC;"
            ],
            "metadata": {
                "azdata_cell_guid": "3aaae3a8-eff7-4b37-8970-2d913a67239b",
                "language": "sql",
                "tags": []
            },
            "outputs": [
                {
                    "output_type": "error",
                    "evalue": "Msg 8120, Level 16, State 1, Line 1\nColumn 'BooksDB.dbo.books.title' is invalid in the select list because it is not contained in either an aggregate function or the GROUP BY clause.",
                    "ename": "",
                    "traceback": []
                },
                {
                    "output_type": "display_data",
                    "data": {
                        "text/html": "Total execution time: 00:00:00.045"
                    },
                    "metadata": {}
                }
            ],
            "execution_count": 58
        },
        {
            "cell_type": "markdown",
            "source": [
                "### **Summary of event 2:**\n",
                "\n",
                "Double Click to edit."
            ],
            "metadata": {
                "azdata_cell_guid": "99d518dc-cd8b-42d6-9a9d-708771c9aa99"
            },
            "attachments": {}
        }
    ]
}